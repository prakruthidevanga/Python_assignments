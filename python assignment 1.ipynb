{
 "cells": [
  {
   "cell_type": "code",
   "execution_count": 1,
   "id": "a1fffcad-6acb-4ba1-aea1-06deff020521",
   "metadata": {},
   "outputs": [
    {
     "name": "stdin",
     "output_type": "stream",
     "text": [
      "enter first number 10\n",
      "enter second number 3\n"
     ]
    },
    {
     "name": "stdout",
     "output_type": "stream",
     "text": [
      "Addithion: 13\n",
      "Subtraction: 7\n",
      "Multiplication: 30\n",
      "Division: 3.3333333333333335\n",
      "Modulus: 1\n",
      "Exponentiation: 1000\n",
      "Floor Division: 3\n"
     ]
    }
   ],
   "source": [
    "#Exercise 1: Arithmetic Operators\n",
    "a=int(input('enter first number'))\n",
    "b=int(input('enter second number'))\n",
    "print('Addithion:',a+b)\n",
    "print('Subtraction:',a-b)\n",
    "print('Multiplication:',a*b)\n",
    "print('Division:',a/b)\n",
    "print('Modulus:',a%b)\n",
    "print('Exponentiation:',a**b)\n",
    "print('Floor Division:',a//b)"
   ]
  },
  {
   "cell_type": "code",
   "execution_count": 37,
   "id": "8da5847b-9d7f-4f76-bc6d-89939bb0655f",
   "metadata": {},
   "outputs": [
    {
     "name": "stdin",
     "output_type": "stream",
     "text": [
      "enter first number 10\n",
      "enter second number 3\n"
     ]
    },
    {
     "name": "stdout",
     "output_type": "stream",
     "text": [
      " a is greater than b\n"
     ]
    }
   ],
   "source": [
    "#Exercise 2: Comparsion Operators\n",
    "a=int(input('enter first number'))\n",
    "b=int(input('enter second number'))\n",
    "if a>b:\n",
    "    print(' a is greater than b')\n",
    "elif a==b:\n",
    "    print('a and b are equal numbers')\n",
    "elif a<=b:\n",
    "    print('a is less than b')\n",
    "else:\n",
    "    print('a and b is zero')"
   ]
  },
  {
   "cell_type": "code",
   "execution_count": 53,
   "id": "05c6728e-c13b-4036-a06a-8bdaa1a0cb80",
   "metadata": {},
   "outputs": [
    {
     "name": "stdout",
     "output_type": "stream",
     "text": [
      "False\n",
      "False\n",
      "True\n",
      "True\n",
      "True\n",
      "True\n",
      "False\n",
      "True\n",
      "False\n"
     ]
    }
   ],
   "source": [
    "#Exercise 3: Logical Operators\n",
    "a=True\n",
    "b=False\n",
    "c=True\n",
    "print(a and b)\n",
    "print(b and c)\n",
    "print(c and a)\n",
    "print(a or b)\n",
    "print(b or c)\n",
    "print(c or a)\n",
    "print(not a)\n",
    "print(not b)\n",
    "print(not c)"
   ]
  },
  {
   "cell_type": "code",
   "execution_count": 7,
   "id": "c1819fd7-db1a-4f86-83e5-41451c73b5d5",
   "metadata": {},
   "outputs": [
    {
     "name": "stdin",
     "output_type": "stream",
     "text": [
      "enter a string Prakruthi\n"
     ]
    },
    {
     "name": "stdout",
     "output_type": "stream",
     "text": [
      "length of the string is: 9\n",
      "index position of first and last character is: P i\n",
      "revers string ihturkarP\n",
      "upper_case of string is: PRAKRUTHI\n",
      "lower_case of string is: prakruthi\n"
     ]
    }
   ],
   "source": [
    "#Exercise 4: String Manipulation\n",
    "a=str(input(\"enter a string\"))\n",
    "print(\"length of the string is:\",len(a))\n",
    "print(\"index position of first and last character is:\",a[0],a[-1])\n",
    "print(\"revers string\",a[::-1])\n",
    "print(\"upper_case of string is:\",a.upper())\n",
    "print(\"lower_case of string is:\",a.lower())"
   ]
  },
  {
   "cell_type": "code",
   "execution_count": 9,
   "id": "dd6bdbe5-3d32-4202-9c08-0a8294971f91",
   "metadata": {},
   "outputs": [
    {
     "name": "stdin",
     "output_type": "stream",
     "text": [
      "enter a name Prakruthi\n",
      "enter an age 18\n"
     ]
    },
    {
     "name": "stdout",
     "output_type": "stream",
     "text": [
      "Hello Prakruthi you are 18  years old\n"
     ]
    }
   ],
   "source": [
    "#Exercise 5: String Formatting\n",
    "name=input(\"enter a name\")\n",
    "age=int(input(\"enter an age\"))\n",
    "print(\"Hello\",name,\"you are\",age,\" years old\")"
   ]
  },
  {
   "cell_type": "code",
   "execution_count": 11,
   "id": "04a146d2-c361-4b4f-8043-5ea1eb55a25a",
   "metadata": {},
   "outputs": [
    {
     "name": "stdin",
     "output_type": "stream",
     "text": [
      "Write a sentence: Iam Prakruthi\n",
      "Enter the word you want search for: Prakruthi\n"
     ]
    },
    {
     "name": "stdout",
     "output_type": "stream",
     "text": [
      "The word'Prakruthi'is in the position:'4' \n"
     ]
    }
   ],
   "source": [
    "#Exercise 6: Substring Search\n",
    "a=input(\"Write a sentence:\")\n",
    "b=input(\"Enter the word you want search for:\")\n",
    "if b in a:\n",
    "    print(f\"The word'{b}'is in the position:'{a.index(b)}' \")\n",
    "else:\n",
    "    print(f\"The word'{b}' does not exist\")"
   ]
  },
  {
   "cell_type": "code",
   "execution_count": 15,
   "id": "45a368a1-c4ff-48b2-8815-d3b1e058726d",
   "metadata": {},
   "outputs": [
    {
     "name": "stdin",
     "output_type": "stream",
     "text": [
      "enter the number 1: 10\n",
      "enter the number 2: 20\n",
      "enter the number 3: 30\n",
      "enter the number 4: 40\n",
      "enter the number 5: 50\n"
     ]
    },
    {
     "name": "stdout",
     "output_type": "stream",
     "text": [
      "[10, 20, 30, 40, 50]\n",
      "the sum of list numbers are: 150\n",
      "the largest number in list is: 50\n",
      "the smallest number in list is: 10\n"
     ]
    }
   ],
   "source": [
    "#Exercise 7: List Operations\n",
    "a=int(input(\"enter the number 1:\"))\n",
    "b=int(input(\"enter the number 2:\"))\n",
    "c=int(input(\"enter the number 3:\"))\n",
    "d=int(input(\"enter the number 4:\"))\n",
    "e=int(input(\"enter the number 5:\"))\n",
    "f=[a,b,c,d,e]\n",
    "print(f)\n",
    "print(\"the sum of list numbers are:\",sum(f))\n",
    "print(\"the largest number in list is:\",max(f))\n",
    "print(\"the smallest number in list is:\",min(f))"
   ]
  },
  {
   "cell_type": "code",
   "execution_count": 27,
   "id": "784d6543-575a-4e38-bd92-8d7ebf5ab8a8",
   "metadata": {},
   "outputs": [
    {
     "name": "stdout",
     "output_type": "stream",
     "text": [
      "['Apple', 'Orange', 'Grapes', 'Pineapple', 'Mango']\n",
      "['Apple', 'Orange', 'Grapes', 'Pineapple', 'Mango', 'Goa']\n",
      "['Apple', 'Orange', 'Grapes', 'Mango', 'Goa']\n"
     ]
    }
   ],
   "source": [
    "#Exercise 8: List Manipulation\n",
    "Fruits=[\"Apple\", \"Orange\", \"Grapes\", \"Pineapple\", \"Mango\"]\n",
    "print(Fruits)\n",
    "Fruits.append(\"Goa\")\n",
    "print(Fruits)\n",
    "Fruits.remove(\"Pineapple\")\n",
    "print(Fruits)"
   ]
  },
  {
   "cell_type": "code",
   "execution_count": 42,
   "id": "7233a42d-4023-46e4-9ea8-6aab500617d3",
   "metadata": {},
   "outputs": [
    {
     "name": "stdin",
     "output_type": "stream",
     "text": [
      "Enter the number 1:  1\n",
      "Enter the number 2:  3\n",
      "Enter the number 3:  5\n",
      "Enter the number 4:  4\n",
      "Enter the number 5:  2\n"
     ]
    },
    {
     "name": "stdout",
     "output_type": "stream",
     "text": [
      "Ascending Order of the list:  [1, 2, 3, 4, 5]\n",
      "Descending Order of the list:  [5, 4, 3, 2, 1]\n"
     ]
    }
   ],
   "source": [
    "#Exercise 9: Sorting a List\n",
    "A = int(input(\"Enter the number 1: \"))\n",
    "B = int(input(\"Enter the number 2: \"))\n",
    "C = int(input(\"Enter the number 3: \"))\n",
    "D = int(input(\"Enter the number 4: \"))\n",
    "E = int(input(\"Enter the number 5: \"))\n",
    "f = [A, B, C, D, E]\n",
    "f.sort()\n",
    "print(\"Ascending Order of the list: \",f)\n",
    "f.sort(reverse=True)\n",
    "print(\"Descending Order of the list: \",f)"
   ]
  },
  {
   "cell_type": "code",
   "execution_count": 17,
   "id": "2797688f-0a36-4baa-be47-3074adca0162",
   "metadata": {},
   "outputs": [
    {
     "name": "stdout",
     "output_type": "stream",
     "text": [
      "the first 5 elements are: [1, 2, 3, 4, 5]\n",
      "the last 5 elements are: [6, 7, 8, 9, 10]\n",
      "the elements from index 2 to 7 is: [2, 3, 4, 5, 6, 7]\n"
     ]
    }
   ],
   "source": [
    "#Exercise 10: List Slicing\n",
    "Numbers=[1,2,3,4,5,6,7,8,9,10]\n",
    "print(\"the first 5 elements are:\",Numbers[:5])\n",
    "print(\"the last 5 elements are:\",Numbers[-5:])\n",
    "print(\"the elements from index 2 to 7 is:\",Numbers[1:7])"
   ]
  },
  {
   "cell_type": "code",
   "execution_count": 21,
   "id": "66d3d8c6-7093-4642-bf6d-02f6a3fbe2d8",
   "metadata": {},
   "outputs": [
    {
     "name": "stdin",
     "output_type": "stream",
     "text": [
      "Enter student name: Prakruthi BR\n",
      "Enter score of subject 1:  85\n",
      "Enter score of subject 2:  86\n",
      "Enter score of subject 3:  100\n",
      "Enter student name: Kruthika P\n",
      "Enter score of subject 1:  95\n",
      "Enter score of subject 2:  96\n",
      "Enter score of subject 3:  100\n",
      "Enter student name: Amrutha K\n",
      "Enter score of subject 1:  98\n",
      "Enter score of subject 2:  99\n",
      "Enter score of subject 3:  100\n"
     ]
    },
    {
     "name": "stdout",
     "output_type": "stream",
     "text": [
      "Prakruthi BR 's average score:' 90.33333333333333\n",
      "Kruthika P 's average score:' 97.0\n",
      "Amrutha K 's average score:' 99.0\n"
     ]
    }
   ],
   "source": [
    "#Execise 11: nested list\n",
    "students = []\n",
    "for _ in range(3):\n",
    "    name = input(\"Enter student name:\")\n",
    "    scores = [float(input(f\"Enter score of subject {i+1}: \")) for i in range(3)]\n",
    "    students.append([name, scores])\n",
    "for student in students:\n",
    "    avg = sum(student[1]) / 3\n",
    "    print(student[0], \"'s average score:'\",avg)\n"
   ]
  },
  {
   "cell_type": "code",
   "execution_count": null,
   "id": "2d651d8c-edda-4bbc-8064-01137fb2835e",
   "metadata": {},
   "outputs": [],
   "source": []
  }
 ],
 "metadata": {
  "kernelspec": {
   "display_name": "Python 3 (ipykernel)",
   "language": "python",
   "name": "python3"
  },
  "language_info": {
   "codemirror_mode": {
    "name": "ipython",
    "version": 3
   },
   "file_extension": ".py",
   "mimetype": "text/x-python",
   "name": "python",
   "nbconvert_exporter": "python",
   "pygments_lexer": "ipython3",
   "version": "3.12.4"
  }
 },
 "nbformat": 4,
 "nbformat_minor": 5
}
